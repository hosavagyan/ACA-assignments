{
 "cells": [
  {
   "cell_type": "code",
   "execution_count": 1,
   "metadata": {},
   "outputs": [
    {
     "name": "stdout",
     "output_type": "stream",
     "text": [
      "['hello', 1, True]\n",
      "Please enter Something2, 4\n",
      "['hello', 1, True, '2, 4']\n"
     ]
    }
   ],
   "source": [
    "list1 = [\"hello\", 1, True]\n",
    "print(list1)\n",
    "n = input(\"Please enter Something\")\n",
    "list1.append(n)\n",
    "print(list1)"
   ]
  },
  {
   "cell_type": "code",
   "execution_count": 2,
   "metadata": {},
   "outputs": [
    {
     "name": "stdout",
     "output_type": "stream",
     "text": [
      "[1, 1, 2, 3, 5, 8, 13]\n",
      "[1, 2, 3, 13]\n"
     ]
    }
   ],
   "source": [
    "list2 = [1,1,2,3,5,8,13]\n",
    "print(list2)\n",
    "list2.pop(5)\n",
    "list2.pop(4)\n",
    "list2.pop(0)\n",
    "print(list2)"
   ]
  },
  {
   "cell_type": "code",
   "execution_count": 3,
   "metadata": {},
   "outputs": [
    {
     "name": "stdout",
     "output_type": "stream",
     "text": [
      "enter some number56\n",
      "False\n"
     ]
    }
   ],
   "source": [
    "set3 = {1,2,8,23,45,3,5}\n",
    "\n",
    "n = int(input(\"enter some number\"))\n",
    "if n < max(set3) and n > min(set3):\n",
    "       print(True)\n",
    "else:\n",
    "      print(False)\n"
   ]
  },
  {
   "cell_type": "code",
   "execution_count": 2,
   "metadata": {},
   "outputs": [
    {
     "name": "stdout",
     "output_type": "stream",
     "text": [
      "{'a': 'apple', 'b': 'bpple', 'c': 'cpple'}\n",
      "enter a dictionary keya\n",
      "enter a dictionary valuet\n",
      "{'a': 't', 'b': 'bpple', 'c': 'cpple'}\n"
     ]
    }
   ],
   "source": [
    "dict1 = {\"a\":\"apple\", \n",
    "         \"b\":\"bpple\", \n",
    "         \"c\":\"cpple\"\n",
    "        }\n",
    "print(dict1)\n",
    "key = input(\"enter a dictionary key\")\n",
    "value = input(\"enter a dictionary value\")\n",
    "dict1[key] = value\n",
    "print(dict1)"
   ]
  },
  {
   "cell_type": "code",
   "execution_count": 18,
   "metadata": {},
   "outputs": [
    {
     "name": "stdout",
     "output_type": "stream",
     "text": [
      "Rectangle\n"
     ]
    }
   ],
   "source": [
    "a = 5\n",
    "b = 4\n",
    "if a==b:\n",
    "    print(\"Square\")\n",
    "else:\n",
    "    print(\"Rectangle\")"
   ]
  },
  {
   "cell_type": "code",
   "execution_count": 10,
   "metadata": {},
   "outputs": [
    {
     "name": "stdout",
     "output_type": "stream",
     "text": [
      "All is okay\n"
     ]
    }
   ],
   "source": [
    "name = \"Rob\"\n",
    "age = 18\n",
    "password = \"1&t34\"\n",
    "if name == \"Batman\":\n",
    "    print(\"Welcom Mr. Batman\")    \n",
    "if age < 16:\n",
    "    print(\"Dear\", name,\"you are too young to register\")\n",
    "if password.count(\"*\") == 0 and password.count(\"&\") == 0 :\n",
    "    print(\"Please enter a different password\")\n",
    "else:\n",
    "    print(\"All is okay\")\n",
    "        "
   ]
  },
  {
   "cell_type": "code",
   "execution_count": 66,
   "metadata": {},
   "outputs": [
    {
     "name": "stdout",
     "output_type": "stream",
     "text": [
      "1\n",
      "3\n",
      "5\n",
      "7\n",
      "9\n",
      "11\n",
      "13\n",
      "15\n",
      "17\n",
      "19\n",
      "21\n",
      "23\n",
      "25\n",
      "27\n",
      "29\n",
      "31\n",
      "33\n",
      "35\n",
      "37\n",
      "39\n",
      "41\n",
      "43\n",
      "45\n",
      "47\n",
      "49\n",
      "51\n",
      "53\n",
      "55\n",
      "57\n",
      "59\n",
      "61\n",
      "63\n",
      "65\n",
      "67\n",
      "69\n",
      "71\n",
      "73\n",
      "75\n",
      "77\n",
      "79\n",
      "81\n",
      "83\n",
      "85\n",
      "87\n",
      "89\n",
      "91\n",
      "93\n",
      "95\n",
      "97\n",
      "99\n"
     ]
    }
   ],
   "source": [
    "for i in range(0,100):\n",
    "    if i%2 != 0:\n",
    "        print(i)\n",
    "        \n"
   ]
  },
  {
   "cell_type": "code",
   "execution_count": 70,
   "metadata": {},
   "outputs": [
    {
     "name": "stdout",
     "output_type": "stream",
     "text": [
      "15\n"
     ]
    }
   ],
   "source": [
    "for i in range(1,20):\n",
    "    if i%3 == 0 and i%5 == 0:\n",
    "        print(i)\n",
    "        break"
   ]
  },
  {
   "cell_type": "code",
   "execution_count": 11,
   "metadata": {},
   "outputs": [
    {
     "name": "stdout",
     "output_type": "stream",
     "text": [
      "[1, 2, 4, 5, 6, 7, 7, 65, 445, 23, 53, 98]\n",
      "[65, 445, 23, 53, 98]\n"
     ]
    }
   ],
   "source": [
    "my_list = [1,2,4,5,6,7,7,65,445,23,53,98]\n",
    "my_new_list = [x for x in my_list if x > 20]\n",
    "print(my_list)\n",
    "print(my_new_list)\n"
   ]
  }
 ],
 "metadata": {
  "kernelspec": {
   "display_name": "Python 3",
   "language": "python",
   "name": "python3"
  },
  "language_info": {
   "codemirror_mode": {
    "name": "ipython",
    "version": 3
   },
   "file_extension": ".py",
   "mimetype": "text/x-python",
   "name": "python",
   "nbconvert_exporter": "python",
   "pygments_lexer": "ipython3",
   "version": "3.7.4"
  }
 },
 "nbformat": 4,
 "nbformat_minor": 2
}
