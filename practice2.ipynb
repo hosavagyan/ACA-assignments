{
 "cells": [
  {
   "cell_type": "code",
   "execution_count": 2,
   "metadata": {},
   "outputs": [],
   "source": [
    "#ex1"
   ]
  },
  {
   "cell_type": "code",
   "execution_count": 3,
   "metadata": {},
   "outputs": [
    {
     "data": {
      "text/plain": [
       "2.0"
      ]
     },
     "execution_count": 3,
     "metadata": {},
     "output_type": "execute_result"
    }
   ],
   "source": [
    "def numbers_mean(a,b,c):\n",
    "    return (a+b+c)/3\n",
    "#check\n",
    "numbers_mean(1,2,3)"
   ]
  },
  {
   "cell_type": "code",
   "execution_count": null,
   "metadata": {},
   "outputs": [],
   "source": [
    "#ex2"
   ]
  },
  {
   "cell_type": "code",
   "execution_count": 17,
   "metadata": {},
   "outputs": [],
   "source": [
    "def even_counter(l):\n",
    "    count = 0\n",
    "    for i in my_list:\n",
    "        if i%2 == 0:\n",
    "            count +=1\n",
    "    return count\n",
    "#check\n",
    "my_list = [1,2,3,12,33,4]"
   ]
  },
  {
   "cell_type": "code",
   "execution_count": null,
   "metadata": {},
   "outputs": [],
   "source": [
    "#ex3"
   ]
  },
  {
   "cell_type": "code",
   "execution_count": 27,
   "metadata": {},
   "outputs": [
    {
     "name": "stdout",
     "output_type": "stream",
     "text": [
      "Hoso, your average grade is  4.0\n"
     ]
    }
   ],
   "source": [
    "def avg_grade(name,*args):\n",
    "    if len(args) != 0:\n",
    "        avg = sum(args)/len(args)\n",
    "        print(name + \",\" +\" your average grade is \", avg)\n",
    "    else:\n",
    "        print(\"No grades available for \" + name)\n",
    "#check\n",
    "avg_grade(\"Hoso\",1,2,3,4,5,6,7)"
   ]
  },
  {
   "cell_type": "code",
   "execution_count": null,
   "metadata": {},
   "outputs": [],
   "source": [
    "#ex4"
   ]
  },
  {
   "cell_type": "code",
   "execution_count": 40,
   "metadata": {},
   "outputs": [
    {
     "name": "stdout",
     "output_type": "stream",
     "text": [
      "red\n",
      "5\n",
      "A red circle with radius 5\n"
     ]
    }
   ],
   "source": [
    "class circle:\n",
    "    def __init__(self, radius, color):\n",
    "        self.radius = radius\n",
    "        self.color = color\n",
    "        \n",
    "    def getDesc(self):\n",
    "        print(\"A \" + self.color + \" circle with radius\", self.radius)\n",
    "circ = circle(radius = 5, color = \"red\")\n",
    "print(circ.color)\n",
    "print(circ.radius)\n",
    "circ.getDesc()"
   ]
  },
  {
   "cell_type": "code",
   "execution_count": null,
   "metadata": {},
   "outputs": [],
   "source": [
    "#ex5"
   ]
  },
  {
   "cell_type": "code",
   "execution_count": 57,
   "metadata": {},
   "outputs": [
    {
     "name": "stdout",
     "output_type": "stream",
     "text": [
      "('Hovsep', 'Avagyan')\n",
      "High\n"
     ]
    }
   ],
   "source": [
    "class Employee:\n",
    "    def __init__(self, name, last_name, monthly_salary):\n",
    "        self.name = name\n",
    "        self.last_name = last_name\n",
    "        self.__monthly_salary = monthly_salary\n",
    "    def getFullName(self):    \n",
    "        return self.name, self.last_name\n",
    "    \n",
    "    def annualSalary(self):\n",
    "        annual = self.__monthly_salary * 12\n",
    "        if annual > 100:\n",
    "            return \"High\"\n",
    "        else:\n",
    "            return \"Low\"\n",
    "    \n",
    "emp1 = Employee(\"Hovsep\",\"Avagyan\",5000)\n",
    "\n",
    "print(emp1.getFullName())\n",
    "print(emp1.annualSalary())\n"
   ]
  },
  {
   "cell_type": "code",
   "execution_count": null,
   "metadata": {},
   "outputs": [],
   "source": [
    "#ex6"
   ]
  },
  {
   "cell_type": "code",
   "execution_count": 64,
   "metadata": {},
   "outputs": [
    {
     "name": "stdout",
     "output_type": "stream",
     "text": [
      "Car2 is better than Car1\n"
     ]
    }
   ],
   "source": [
    "class Car:\n",
    "    def __init__(self, model, color, maxSpeed):\n",
    "        self.model = model\n",
    "        self.color = color\n",
    "        self.maxSpeed = maxSpeed\n",
    "    def compareCar(self, car2):\n",
    "        if car2.maxSpeed > self.maxSpeed:\n",
    "            print(\"Car2 is better than Car1\")\n",
    "        else:\n",
    "            print(\"Car1 is better than Car2\")\n",
    "car1 = Car(\"opel\",\"Grey\", 110)\n",
    "car2 = Car(\"Mecedes\", \"Black\", 250)\n",
    "car1.compareCar(car2)"
   ]
  },
  {
   "cell_type": "code",
   "execution_count": null,
   "metadata": {},
   "outputs": [],
   "source": [
    "#ex7"
   ]
  },
  {
   "cell_type": "code",
   "execution_count": 71,
   "metadata": {},
   "outputs": [
    {
     "name": "stdout",
     "output_type": "stream",
     "text": [
      "I can run really fast\n"
     ]
    }
   ],
   "source": [
    "class Animal:\n",
    "    def __init__(self, name):\n",
    "        self.name = name\n",
    "    def move(self):\n",
    "        print(\"I can move\")\n",
    "class Dog(Animal):\n",
    "    def __init__(self):\n",
    "        self.name = \"Dog\"\n",
    "    def move(self):\n",
    "        print(\"I can run really fast\")\n",
    "dog1 = Dog()\n",
    "dog1.move()"
   ]
  }
 ],
 "metadata": {
  "kernelspec": {
   "display_name": "Python 3",
   "language": "python",
   "name": "python3"
  },
  "language_info": {
   "codemirror_mode": {
    "name": "ipython",
    "version": 3
   },
   "file_extension": ".py",
   "mimetype": "text/x-python",
   "name": "python",
   "nbconvert_exporter": "python",
   "pygments_lexer": "ipython3",
   "version": "3.7.4"
  }
 },
 "nbformat": 4,
 "nbformat_minor": 2
}
