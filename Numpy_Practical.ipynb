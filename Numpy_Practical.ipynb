{
 "cells": [
  {
   "cell_type": "markdown",
   "metadata": {},
   "source": [
    "#### 1. Import the numpy package under the name `np`\n",
    "\n",
    "#### Import արեք numpy module-ը np անունով:"
   ]
  },
  {
   "cell_type": "code",
   "execution_count": 1,
   "metadata": {},
   "outputs": [],
   "source": [
    "import numpy as np"
   ]
  },
  {
   "cell_type": "markdown",
   "metadata": {},
   "source": [
    "#### 2. Create a numpy array of size 10 filled with zeros. \n",
    "\n",
    "#### Ստեղծեք 10 չափի 0-ներով լցված numpy array:"
   ]
  },
  {
   "cell_type": "code",
   "execution_count": 3,
   "metadata": {},
   "outputs": [
    {
     "data": {
      "text/plain": [
       "array([0., 0., 0., 0., 0., 0., 0., 0., 0., 0.])"
      ]
     },
     "execution_count": 3,
     "metadata": {},
     "output_type": "execute_result"
    }
   ],
   "source": [
    "arr = np.zeros(10)\n",
    "arr"
   ]
  },
  {
   "cell_type": "markdown",
   "metadata": {},
   "source": [
    "#### 3.  How to get the documentation of the numpy add function? \n",
    "\n",
    "#### Նայեք numpy-ի add ֆունկցիայի դոկումենտացիան:"
   ]
  },
  {
   "cell_type": "code",
   "execution_count": 4,
   "metadata": {},
   "outputs": [],
   "source": [
    "?np.add"
   ]
  },
  {
   "cell_type": "markdown",
   "metadata": {},
   "source": [
    "#### 4.  Create a numpy array of size 10 filled with zeros but the fifth value is 1 \n",
    "\n",
    "#### Ստեղծեք 10 չափի 0-ներով լցված numpy array, որի 5րդ արժեքը 1 է:"
   ]
  },
  {
   "cell_type": "code",
   "execution_count": 7,
   "metadata": {},
   "outputs": [
    {
     "data": {
      "text/plain": [
       "array([0., 0., 0., 0., 1., 0., 0., 0., 0., 0.])"
      ]
     },
     "execution_count": 7,
     "metadata": {},
     "output_type": "execute_result"
    }
   ],
   "source": [
    "arr[4] = 1\n",
    "arr"
   ]
  },
  {
   "cell_type": "markdown",
   "metadata": {},
   "source": [
    "#### 5.  Create a numpy array with values ranging from 10 to 49\n",
    "\n",
    "#### Ստեղծեք 10-ից 49 հաջորդական թվերով numpy array:"
   ]
  },
  {
   "cell_type": "code",
   "execution_count": 10,
   "metadata": {},
   "outputs": [
    {
     "data": {
      "text/plain": [
       "array([10, 11, 12, 13, 14, 15, 16, 17, 18, 19, 20, 21, 22, 23, 24, 25, 26,\n",
       "       27, 28, 29, 30, 31, 32, 33, 34, 35, 36, 37, 38, 39, 40, 41, 42, 43,\n",
       "       44, 45, 46, 47, 48, 49])"
      ]
     },
     "execution_count": 10,
     "metadata": {},
     "output_type": "execute_result"
    }
   ],
   "source": [
    "new_arr = np.arange(10,50)\n",
    "new_arr"
   ]
  },
  {
   "cell_type": "markdown",
   "metadata": {},
   "source": [
    "#### 6.  Reverse the numpy array ranging from 0 to 50. \n",
    "\n",
    "#### Ստեղծեք 0-ից 50 հաջորդական թվերով numpy array և տպեք այն շրջած ձևով:"
   ]
  },
  {
   "cell_type": "code",
   "execution_count": 15,
   "metadata": {},
   "outputs": [
    {
     "name": "stdout",
     "output_type": "stream",
     "text": [
      "[50 49 48 47 46 45 44 43 42 41 40 39 38 37 36 35 34 33 32 31 30 29 28 27\n",
      " 26 25 24 23 22 21 20 19 18 17 16 15 14 13 12 11 10]\n"
     ]
    }
   ],
   "source": [
    "arr = np.arange(10,51)\n",
    "print(np.flip(arr))"
   ]
  },
  {
   "cell_type": "markdown",
   "metadata": {},
   "source": [
    "#### 7.  Create a 3x3 matrix with values ranging from 0 to 8 \n",
    "\n",
    "#### Ստեղծեք 0-ից 8 հաջորդական թվերով 3x3 numpy array"
   ]
  },
  {
   "cell_type": "code",
   "execution_count": 21,
   "metadata": {},
   "outputs": [
    {
     "data": {
      "text/plain": [
       "array([[0, 1, 2],\n",
       "       [3, 4, 5],\n",
       "       [6, 7, 8]])"
      ]
     },
     "execution_count": 21,
     "metadata": {},
     "output_type": "execute_result"
    }
   ],
   "source": [
    "arr = np.arange(9)\n",
    "my_arr = arr.reshape(3,3)\n",
    "my_arr"
   ]
  },
  {
   "cell_type": "markdown",
   "metadata": {},
   "source": [
    "#### 8. Find indices of non-zero elements from \\[1,2,0,0,4,0\\]\n",
    "\n",
    "#### Տրված է \\[1,2,0,0,4,0\\] numpy array-ը, գտեք ոչ-զրոյական արժեքներով տարրերի ինդեքսները:"
   ]
  },
  {
   "cell_type": "code",
   "execution_count": 31,
   "metadata": {},
   "outputs": [
    {
     "name": "stdout",
     "output_type": "stream",
     "text": [
      "[0, 1, 4]\n"
     ]
    }
   ],
   "source": [
    "a = np.array([1,2,0,0,4,0])\n",
    "list1 = []\n",
    "for i in range(0,len(a)):\n",
    "    if a[i] != 0:\n",
    "        list1.append(i)\n",
    "print(list1)\n"
   ]
  },
  {
   "cell_type": "markdown",
   "metadata": {},
   "source": [
    "#### 9. Create a 3x3x3 array with random integers from 1 to 20\n",
    "\n",
    "#### Ստեղծեք 1-ից 20 պատահական թվերով լցված (3x3x3) չափանի numpy array:"
   ]
  },
  {
   "cell_type": "code",
   "execution_count": 32,
   "metadata": {},
   "outputs": [
    {
     "data": {
      "text/plain": [
       "array([[[ 8, 12,  6],\n",
       "        [19,  2, 19],\n",
       "        [ 4, 19, 10]],\n",
       "\n",
       "       [[ 1, 16,  2],\n",
       "        [16, 11,  3],\n",
       "        [ 5,  6, 10]],\n",
       "\n",
       "       [[19,  7, 11],\n",
       "        [12,  8,  3],\n",
       "        [14,  9,  4]]])"
      ]
     },
     "execution_count": 32,
     "metadata": {},
     "output_type": "execute_result"
    }
   ],
   "source": [
    "np.random.randint(size = (3,3,3), low = 1, high = 20)"
   ]
  },
  {
   "cell_type": "markdown",
   "metadata": {},
   "source": [
    "#### 10. Create a 10x10 array with random values and find the minimum and maximum values \n",
    "\n",
    "#### Ստեղծեք պատահական թվերով լցված (10x10) չափանի numpy array ու տպեք դրա փոքրագույն ու մեծագույն արժեքները:"
   ]
  },
  {
   "cell_type": "code",
   "execution_count": 66,
   "metadata": {},
   "outputs": [
    {
     "name": "stdout",
     "output_type": "stream",
     "text": [
      "4\n",
      "999\n"
     ]
    }
   ],
   "source": [
    "my_numpy_array = np.random.randint(size = (10,10), low = 1, high = 1000)\n",
    "print(np.amin(my_numpy_array))\n",
    "print(np.amax(my_numpy_array))"
   ]
  },
  {
   "cell_type": "markdown",
   "metadata": {},
   "source": [
    "#### 11. Create a random vector of size 30 and find the mean value \n",
    "\n",
    "#### Ստեղծեք 30 չափանի պատահական թվերով լցված numpy array ու տպեք դրա միջին արժեքը:"
   ]
  },
  {
   "cell_type": "code",
   "execution_count": 69,
   "metadata": {},
   "outputs": [
    {
     "data": {
      "text/plain": [
       "-0.1419347241042725"
      ]
     },
     "execution_count": 69,
     "metadata": {},
     "output_type": "execute_result"
    }
   ],
   "source": [
    "rand = np.random.randn(30)\n",
    "np.mean(rand)"
   ]
  },
  {
   "cell_type": "markdown",
   "metadata": {},
   "source": [
    "#### 12. Given a 1D array ranging from 0 to 10, print all the elements which are between 3 and 8. \n",
    "\n",
    "#### Ստեղծեք 0-ից 10 հաջորդական թվերով numpy array: Տպեք բոլոր արժեքները, որոնք 3-ից 8 միջակայքում են:"
   ]
  },
  {
   "cell_type": "code",
   "execution_count": 75,
   "metadata": {},
   "outputs": [
    {
     "data": {
      "text/plain": [
       "array([4, 5, 6, 7])"
      ]
     },
     "execution_count": 75,
     "metadata": {},
     "output_type": "execute_result"
    }
   ],
   "source": [
    "seq = np.arange(11)\n",
    "seq[(seq >3) & (seq<8)]"
   ]
  },
  {
   "cell_type": "markdown",
   "metadata": {},
   "source": [
    "#### 13. Given a 1D array of 20 random integers from 0 to 10, multiply the values that are less than 5 by 2 and print the resulting array.\n",
    "\n",
    "#### Ստեղծեք 1-ից 10 պատահական ամբողջ թվերով լցված 20 չափանի numpy array: Բազմապատկեք 5-ից փոքր արժեք ունեցող տարերրը 2-ով ու տպեք արդյունքում ստացված array-ը:"
   ]
  },
  {
   "cell_type": "code",
   "execution_count": 87,
   "metadata": {},
   "outputs": [
    {
     "data": {
      "text/plain": [
       "array([8, 0, 6, 6, 4, 8, 6, 4, 8])"
      ]
     },
     "execution_count": 87,
     "metadata": {},
     "output_type": "execute_result"
    }
   ],
   "source": [
    "array = np.random.randint(size = 20, low = 0, high = 11)\n",
    "new_arr = array[array < 5] *2 \n",
    "new_arr"
   ]
  },
  {
   "cell_type": "markdown",
   "metadata": {},
   "source": [
    "#### 14. Given the 1D array [1, 5, 6, 2, -2, 23, 45], find the indices of the array elements that are divisible by 2.\n",
    "\n",
    "#### Տրված է [1, 5, 6, 2, -2, 23, 45] numpy array-ը, գտեք 2-ի բաժանվող տարրերի կոորդինատները:"
   ]
  },
  {
   "cell_type": "code",
   "execution_count": 89,
   "metadata": {},
   "outputs": [
    {
     "name": "stdout",
     "output_type": "stream",
     "text": [
      "[2, 3, 4]\n"
     ]
    }
   ],
   "source": [
    "given = np.array([1,5,6,2,-2,23,45])\n",
    "new_list = []\n",
    "for i in range(0,len(given)):\n",
    "    if given[i] % 2 == 0:\n",
    "        new_list.append(i)\n",
    "print(new_list)"
   ]
  },
  {
   "cell_type": "markdown",
   "metadata": {},
   "source": [
    "#### 15. Given a 1D array ranging from 0 to 20, print all the elements which are divisible by 3. \n",
    "\n",
    "#### Ստեղծեք 1-ից 20 հաջորդական թվերով լցված numpy array, տպեք բոլոր 3-ի բաժանվող տարրերի արժեքները:"
   ]
  },
  {
   "cell_type": "code",
   "execution_count": 94,
   "metadata": {},
   "outputs": [
    {
     "name": "stdout",
     "output_type": "stream",
     "text": [
      "[ 3  6  9 12 15 18]\n"
     ]
    }
   ],
   "source": [
    "a = np.arange(1,21)\n",
    "print(a[a % 3 == 0])"
   ]
  },
  {
   "cell_type": "markdown",
   "metadata": {},
   "source": [
    "#### 16. Create a 5x5 numpy array with each row values ranging from 0 to 4 \n",
    "\n",
    "#### Ստեղծեք 5x5 numpy array, որի ամեն տող իրենից ներկայացնում է 0-ից 4 հաջորդական թվեր:"
   ]
  },
  {
   "cell_type": "code",
   "execution_count": 101,
   "metadata": {},
   "outputs": [
    {
     "data": {
      "text/plain": [
       "array([[0., 1., 2., 3., 4.],\n",
       "       [0., 1., 2., 3., 4.],\n",
       "       [0., 1., 2., 3., 4.],\n",
       "       [0., 1., 2., 3., 4.],\n",
       "       [0., 1., 2., 3., 4.]])"
      ]
     },
     "execution_count": 101,
     "metadata": {},
     "output_type": "execute_result"
    }
   ],
   "source": [
    "x = np.zeros((5,5))\n",
    "x += np.arange(5)\n",
    "x"
   ]
  },
  {
   "cell_type": "markdown",
   "metadata": {},
   "source": [
    "#### 17. Create the following 2x2 numpy array np.array([[0, 1],[2, 3]]). Find the minimum and maximum values in the array.\n",
    "\n",
    "#### Ստեղծեք 2x2 numpy array np.array([[0, 1],[2, 3]]) : Գտեք array-ի մեծագույն ու փոքրագույն արժեքները։"
   ]
  },
  {
   "cell_type": "code",
   "execution_count": 109,
   "metadata": {},
   "outputs": [
    {
     "name": "stdout",
     "output_type": "stream",
     "text": [
      "0\n",
      "3\n"
     ]
    }
   ],
   "source": [
    "num_array = np.array([[0,1],[2,3]])\n",
    "print(np.amin(num_array))\n",
    "print(np.amax(num_array))"
   ]
  },
  {
   "cell_type": "markdown",
   "metadata": {},
   "source": [
    "#### 18. Create the following 2x2 numpy array np.array([[0, 1],[2, 3]]). Find the minimum and maximum values in each column.\n",
    "\n",
    "#### Ստեղծեք 2x2 numpy array np.array([[0, 1],[2, 3]]) : Գտեք array-ի սյուների մեծագույն ու փոքրագույն արժեքները։"
   ]
  },
  {
   "cell_type": "code",
   "execution_count": 117,
   "metadata": {},
   "outputs": [
    {
     "name": "stdout",
     "output_type": "stream",
     "text": [
      "[0 1]\n",
      "[2 3]\n"
     ]
    }
   ],
   "source": [
    "num_array = np.array([[0,1],[2,3]])\n",
    "print(np.amin(num_array, axis = 0))\n",
    "print(np.amax(num_array, axis = 0))"
   ]
  },
  {
   "cell_type": "markdown",
   "metadata": {},
   "source": [
    "#### 19. Create  numpy array of size 10 filled with integers of your choice. Compute mean, median, standard deviation and variance of the array values. \n",
    "\n",
    "#### Ստեղծեք 10 չափանի numpy array, հաշվեք array-ի mean, median, standard deviation և variance։"
   ]
  },
  {
   "cell_type": "code",
   "execution_count": 133,
   "metadata": {},
   "outputs": [
    {
     "name": "stdout",
     "output_type": "stream",
     "text": [
      "6.5\n",
      "5.0\n",
      "5.852349955359813\n",
      "34.25\n"
     ]
    }
   ],
   "source": [
    "myArray = np.array([1,2,4,5,6,5,7,8,4,23])\n",
    "print(np.mean(myArray))\n",
    "print(np.median(myArray))\n",
    "print(np.std(myArray))\n",
    "print(np.var(myArray))\n"
   ]
  },
  {
   "cell_type": "markdown",
   "metadata": {},
   "source": [
    "#### 20. Calculate the weighted average of the following array: np.array([2, 4, 3, 5, 6, 12, 34, 2, 34, 5]) using weights np.array([1, 2, 3, 4, 5, 6, 7, 8, 9, 10]). \n",
    "\n",
    "#### Հաշվեք տրված array-ի կշռված միջինը՝ np.array([2, 4, 3, 5, 6, 12, 34, 2, 34, 5])` օգտագործելով np.array([1, 2, 3, 4, 5, 6, 7, 8, 9, 10]) weight-երը։"
   ]
  },
  {
   "cell_type": "code",
   "execution_count": 136,
   "metadata": {},
   "outputs": [
    {
     "name": "stdout",
     "output_type": "stream",
     "text": [
      "13.654545454545454\n"
     ]
    }
   ],
   "source": [
    "x1 = np.array([2, 4, 3, 5, 6, 12, 34, 2, 34, 5]) \n",
    "weights = np.array([1, 2, 3, 4, 5, 6, 7, 8, 9, 10])\n",
    "print(sum(weights * x1)/sum(weights))"
   ]
  },
  {
   "cell_type": "markdown",
   "metadata": {},
   "source": [
    "#### 21. Sort the rows of the following numpy array in an increasing order: np.array([[4, 2, 6, 1],[0, 2, 6, 1],[4, 4, 1, 9]]). \n",
    "\n",
    "#### Աճման կարգով դասավորեք տրված numpy array-ի տողերը՝ np.array([[4, 2, 6, 1],[0, 2, 6, 1],[4, 4, 1, 9]]):"
   ]
  },
  {
   "cell_type": "code",
   "execution_count": 140,
   "metadata": {},
   "outputs": [
    {
     "name": "stdout",
     "output_type": "stream",
     "text": [
      "[[4 2 6 1]\n",
      " [0 2 6 1]\n",
      " [4 4 1 9]]\n",
      "\n",
      "\n",
      "[[1 2 4 6]\n",
      " [0 1 2 6]\n",
      " [1 4 4 9]]\n"
     ]
    }
   ],
   "source": [
    "arr1 =  np.array([[4, 2, 6, 1],[0, 2, 6, 1],[4, 4, 1, 9]])\n",
    "print(arr1)\n",
    "print(\"\\n\")\n",
    "print(np.sort(arr1, axis =1))"
   ]
  },
  {
   "cell_type": "markdown",
   "metadata": {},
   "source": [
    "#### 22. Create the following numpy arrays and calculate the dot product between a and b. \n",
    "\n",
    "#### Ստեղծեք հետևյալ numpy array-ները ու հաշվեք a և b array-ների dot product-ը։"
   ]
  },
  {
   "cell_type": "markdown",
   "metadata": {},
   "source": [
    "$$a = \\begin{bmatrix} 3 & 6 & 7 \\\\ 5 & -3 & 0  \\end{bmatrix}$$\n",
    "\n",
    "$$b = \\begin{bmatrix} 1 & 1 \\\\ 2 & 1 \\\\ 3 & -3 \\end{bmatrix}$$"
   ]
  },
  {
   "cell_type": "code",
   "execution_count": 142,
   "metadata": {},
   "outputs": [
    {
     "name": "stdout",
     "output_type": "stream",
     "text": [
      "[[ 36 -12]\n",
      " [ -1   2]]\n"
     ]
    }
   ],
   "source": [
    "a = np.array([[3,6,7],[5,-3,0]])\n",
    "b = np.array([[1,1],[2,1],[3,-3]])\n",
    "print(a.dot(b))"
   ]
  }
 ],
 "metadata": {
  "kernelspec": {
   "display_name": "Python 3",
   "language": "python",
   "name": "python3"
  },
  "language_info": {
   "codemirror_mode": {
    "name": "ipython",
    "version": 3
   },
   "file_extension": ".py",
   "mimetype": "text/x-python",
   "name": "python",
   "nbconvert_exporter": "python",
   "pygments_lexer": "ipython3",
   "version": "3.7.4"
  }
 },
 "nbformat": 4,
 "nbformat_minor": 1
}
