{
 "cells": [
  {
   "cell_type": "code",
   "execution_count": 1,
   "metadata": {},
   "outputs": [],
   "source": [
    "#ex1"
   ]
  },
  {
   "cell_type": "code",
   "execution_count": 16,
   "metadata": {},
   "outputs": [
    {
     "name": "stdout",
     "output_type": "stream",
     "text": [
      "2\n",
      "[1, 2, 3, 5, 'hello', 3, 2, 1, 2]\n",
      "3\n"
     ]
    }
   ],
   "source": [
    "list1 = [1,2,3,5,\"hello\",3,2,1]\n",
    "n = int(input())\n",
    "list1.append(n)\n",
    "print(list1)\n",
    "count = 0\n",
    "for i in range(0,len(list1)):\n",
    "    if list1[i]== n:\n",
    "        count +=1\n",
    "print(count)"
   ]
  },
  {
   "cell_type": "code",
   "execution_count": null,
   "metadata": {},
   "outputs": [],
   "source": [
    "#ex2"
   ]
  },
  {
   "cell_type": "code",
   "execution_count": 30,
   "metadata": {},
   "outputs": [
    {
     "name": "stdout",
     "output_type": "stream",
     "text": [
      "(2, 3, 4, 5, 3, 5)\n",
      "(2, 3, 4, 5, 'hello', 5)\n"
     ]
    }
   ],
   "source": [
    "t2 = (2,3,4,5,3,5)\n",
    "print(t2)\n",
    "y = list(t2)\n",
    "y[4] = \"hello\"\n",
    "x = tuple(y)\n",
    "print(x)"
   ]
  },
  {
   "cell_type": "code",
   "execution_count": null,
   "metadata": {},
   "outputs": [],
   "source": [
    "#ex3"
   ]
  },
  {
   "cell_type": "code",
   "execution_count": 5,
   "metadata": {},
   "outputs": [
    {
     "name": "stdout",
     "output_type": "stream",
     "text": [
      "5\n",
      "{'name': 'Armen', 'Age': 15, 'grades': [10, 8, 8, 4, 6, 7], 'weight': 5}\n",
      "dict_keys(['name', 'Age', 'grades', 'weight'])\n"
     ]
    }
   ],
   "source": [
    "d = {\"name\": \"Armen\",\n",
    "     \"Age\": 15,\n",
    "     \"grades\":[10,8,8,4,6,7]}\n",
    "\n",
    "count = 0\n",
    "for i in d:\n",
    "    if i != \"weight\":\n",
    "        count+=1\n",
    "if count == len(d):\n",
    "    n = int(input())\n",
    "    d.update({\"weight\":n})\n",
    "    print(d)\n",
    "else: \n",
    "    print(d[\"weight\"])"
   ]
  },
  {
   "cell_type": "code",
   "execution_count": null,
   "metadata": {},
   "outputs": [],
   "source": [
    "#ex4"
   ]
  },
  {
   "cell_type": "code",
   "execution_count": 5,
   "metadata": {},
   "outputs": [
    {
     "name": "stdout",
     "output_type": "stream",
     "text": [
      "1\n",
      "2\n",
      "3\n",
      "4\n",
      "6\n",
      "7\n",
      "8\n",
      "9\n",
      "1\n",
      "2\n"
     ]
    }
   ],
   "source": [
    "correct_num = 5\n",
    "for i in range(0,10):\n",
    "    guess = int(input())\n",
    "    if guess == correct_num:\n",
    "        print(\"that was a good guess\")\n",
    "        break\n",
    "    else:\n",
    "        continue"
   ]
  },
  {
   "cell_type": "code",
   "execution_count": null,
   "metadata": {},
   "outputs": [],
   "source": [
    "#ex5"
   ]
  },
  {
   "cell_type": "code",
   "execution_count": 7,
   "metadata": {},
   "outputs": [
    {
     "name": "stdout",
     "output_type": "stream",
     "text": [
      "['aba', '1221']\n"
     ]
    }
   ],
   "source": [
    "list1 = [\"a\",\"abc\",\"xyz\",\"s\",\"aba\",\"1221\"]\n",
    "print([x for x in list1 if len(x) > 2 and x[0] == x[len(x)-1]])"
   ]
  }
 ],
 "metadata": {
  "kernelspec": {
   "display_name": "Python 3",
   "language": "python",
   "name": "python3"
  },
  "language_info": {
   "codemirror_mode": {
    "name": "ipython",
    "version": 3
   },
   "file_extension": ".py",
   "mimetype": "text/x-python",
   "name": "python",
   "nbconvert_exporter": "python",
   "pygments_lexer": "ipython3",
   "version": "3.7.4"
  }
 },
 "nbformat": 4,
 "nbformat_minor": 2
}
